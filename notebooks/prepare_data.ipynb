{
 "cells": [
  {
   "cell_type": "code",
   "execution_count": 1,
   "id": "6cf30966-a1a2-463f-9d4e-f30928bc8449",
   "metadata": {},
   "outputs": [],
   "source": [
    "%load_ext autoreload\n",
    "%autoreload 2"
   ]
  },
  {
   "cell_type": "code",
   "execution_count": 2,
   "id": "1065a430-1cc7-4f06-a10a-e66cb1b20d58",
   "metadata": {},
   "outputs": [],
   "source": [
    "import os\n",
    "import sys\n",
    "module_path = os.path.abspath(os.path.join('../src'))\n",
    "if module_path not in sys.path:\n",
    "    sys.path.append(module_path)"
   ]
  },
  {
   "cell_type": "code",
   "execution_count": 3,
   "id": "74a00ec2-63c3-4a39-9da3-b86b2d2a23f9",
   "metadata": {},
   "outputs": [],
   "source": [
    "import numpy as np\n",
    "import pandas as pd\n",
    "from prepare_regression_data import save_aggregated_indiv_day_data"
   ]
  },
  {
   "cell_type": "code",
   "execution_count": 4,
   "id": "e428b5e9-aeb4-4fe7-97d7-4d569395e9c1",
   "metadata": {},
   "outputs": [],
   "source": [
    "OMICRON_START_DATE = '2021-12-05'\n",
    "OMICRON_END_DATE = '2021-12-31'"
   ]
  },
  {
   "cell_type": "markdown",
   "id": "f3c9468d-769d-4726-8b6f-d8dc6d25143d",
   "metadata": {},
   "source": [
    "## Preparing data for regression (each csv takes ~12min)"
   ]
  },
  {
   "cell_type": "code",
   "execution_count": null,
   "id": "2dad6dd3-2778-446f-a7a7-4ec76da5dfcb",
   "metadata": {},
   "outputs": [],
   "source": [
    "delays = list(range(1, 15))\n",
    "\n",
    "for i in delays:\n",
    "    print(i)\n",
    "    save_aggregated_indiv_day_data(booster_delay=i)"
   ]
  },
  {
   "cell_type": "markdown",
   "id": "2b6e6188-3177-43b4-8cbb-0d7f41fe3209",
   "metadata": {},
   "source": [
    "## Covariate distribution (7-day delay)"
   ]
  },
  {
   "cell_type": "code",
   "execution_count": 6,
   "id": "2e32e6a5-d8dd-44b8-9152-905f5ffac614",
   "metadata": {},
   "outputs": [
    {
     "name": "stderr",
     "output_type": "stream",
     "text": [
      "C:\\Users\\jw2529\\Anaconda3\\envs\\py37\\lib\\site-packages\\IPython\\core\\interactiveshell.py:3457: DtypeWarning: Columns (21) have mixed types.Specify dtype option on import or set low_memory=False.\n",
      "  exec(code_obj, self.user_global_ns, self.user_ns)\n",
      "C:\\Users\\jw2529\\Anaconda3\\envs\\py37\\lib\\site-packages\\pandas\\core\\arrays\\categorical.py:2631: FutureWarning: The `inplace` parameter in pandas.Categorical.set_categories is deprecated and will be removed in a future version. Removing unused categories will always return a new Categorical object.\n",
      "  res = method(*args, **kwargs)\n"
     ]
    },
    {
     "name": "stdout",
     "output_type": "stream",
     "text": [
      "infection       0     1     All\n",
      "booster                        \n",
      "0          133415  1799  135214\n",
      "1           19715   127   19842\n",
      "All        153130  1926  155056\n",
      "unboosted\n",
      " infection           0     1     All\n",
      "student_group                      \n",
      "UG-greek        20816   517   21333\n",
      "UG-athlete       7459   170    7629\n",
      "UG-other        88875   985   89860\n",
      "GR                  0     0       0\n",
      "LA               6136    30    6166\n",
      "GM               4895    84    4979\n",
      "VM               5234    13    5247\n",
      "All            133415  1799  135214 \n",
      "\n",
      "boosted\n",
      " infection          0    1    All\n",
      "student_group                   \n",
      "UG-greek        2951   35   2986\n",
      "UG-athlete       774    7    781\n",
      "UG-other       11381   65  11446\n",
      "GR                 0    0      0\n",
      "LA              1731    3   1734\n",
      "GM              1046   15   1061\n",
      "VM              1832    2   1834\n",
      "All            19715  127  19842 \n",
      "\n",
      "unboosted\n",
      " infection               0       1     All\n",
      "last_dose_month                          \n",
      "1                   273.0     5.0     278\n",
      "2                  1899.0    27.0    1926\n",
      "3                  9439.0   184.0    9623\n",
      "4                 41230.0   667.0   41897\n",
      "5                 53523.0   646.0   54169\n",
      "6                 10770.0   113.0   10883\n",
      "7                  7881.0    77.0    7958\n",
      "8                  5246.0    55.0    5301\n",
      "9                  2753.0    21.0    2774\n",
      "10                  388.0     4.0     392\n",
      "11                   13.0     NaN      13\n",
      "All              133415.0  1799.0  135214 \n",
      "\n",
      "boosted\n",
      " infection              0      1    All\n",
      "last_dose_month                       \n",
      "1                  157.0    1.0    158\n",
      "2                 1177.0    8.0   1185\n",
      "3                 3767.0   34.0   3801\n",
      "4                 8946.0   60.0   9006\n",
      "5                 3632.0   21.0   3653\n",
      "6                 1093.0    2.0   1095\n",
      "7                  582.0    NaN    582\n",
      "8                  160.0    NaN    160\n",
      "9                  106.0    NaN    106\n",
      "10                  71.0    1.0     72\n",
      "11                  24.0    NaN     24\n",
      "All              19715.0  127.0  19842 \n",
      "\n",
      "unboosted\n",
      " infection            0     1     All\n",
      "current_gender                      \n",
      "F                71287   908   72195\n",
      "M                62128   891   63019\n",
      "All             133415  1799  135214 \n",
      "\n",
      "boosted\n",
      " infection           0    1    All\n",
      "current_gender                   \n",
      "F               11959   75  12034\n",
      "M                7756   52   7808\n",
      "All             19715  127  19842 \n",
      "\n",
      "unboosted\n",
      " infection          0     1     All\n",
      "vac_type_agg                      \n",
      "Pfizer         82647  1179   83826\n",
      "Moderna        37999   481   38480\n",
      "J&J             6133   101    6234\n",
      "Others          6636    38    6674\n",
      "All           133415  1799  135214 \n",
      "\n",
      "boosted\n",
      " infection         0    1    All\n",
      "vac_type_agg                   \n",
      "Pfizer        12449   83  12532\n",
      "Moderna        3273   24   3297\n",
      "J&J            1175   11   1186\n",
      "Others         2818    9   2827\n",
      "All           19715  127  19842 \n",
      "\n",
      "unboosted\n",
      " infection       0     1     All\n",
      "week                           \n",
      "0           88960   520   89480\n",
      "1           38431  1211   39642\n",
      "2            4567    47    4614\n",
      "3            1457    21    1478\n",
      "All        133415  1799  135214 \n",
      "\n",
      "boosted\n",
      " infection      0    1    All\n",
      "week                        \n",
      "0          11210   46  11256\n",
      "1           6195   68   6263\n",
      "2           1516    8   1524\n",
      "3            794    5    799\n",
      "All        19715  127  19842 \n",
      "\n"
     ]
    }
   ],
   "source": [
    "df_7 = pd.read_csv(f\"../data/regression/data_indiv_day_delay_7.csv\")\n",
    "\n",
    "df_by_booster = df_7.groupby(['booster', 'infection'], as_index=False)['employee_id_hash'].count()\n",
    "df_count = pd.pivot_table(df_by_booster, values='employee_id_hash', index=['booster'], columns=['infection'], aggfunc=np.sum, margins=True)\n",
    "print(df_count)\n",
    "\n",
    "sorter_sg =['UG-greek', 'UG-athlete', 'UG-other', 'GR', 'LA', 'GM', 'VM']\n",
    "df_7.student_group = df_7.student_group.astype(\"category\")\n",
    "df_7.student_group.cat.set_categories(sorter_sg, inplace=True)\n",
    "sorter_vac = ['Pfizer', 'Moderna', 'J&J', 'Others']\n",
    "df_7.vac_type_agg = df_7.vac_type_agg.astype(\"category\")\n",
    "df_7.vac_type_agg.cat.set_categories(sorter_vac, inplace=True)\n",
    "\n",
    "for feature in ['student_group', 'last_dose_month', 'current_gender', 'vac_type_agg', 'week']:\n",
    "    df_agg = df_7[df_7['booster'] == 0].groupby([feature, 'infection'], as_index=False)['employee_id_hash'].count()                     \n",
    "    df_agg_count = pd.pivot_table(df_agg, values='employee_id_hash', index=[feature], columns=['infection'], aggfunc=np.sum, margins=True)\n",
    "    print('unboosted\\n', df_agg_count, '\\n')\n",
    "\n",
    "    df_agg = df_7[df_7['booster'] == 1].groupby([feature, 'infection'], as_index=False)['employee_id_hash'].count()                     \n",
    "    df_agg_count = pd.pivot_table(df_agg, values='employee_id_hash', index=[feature], columns=['infection'], aggfunc=np.sum, margins=True)\n",
    "    print('boosted\\n', df_agg_count, '\\n')"
   ]
  }
 ],
 "metadata": {
  "kernelspec": {
   "display_name": "Python 3 (ipykernel)",
   "language": "python",
   "name": "python3"
  },
  "language_info": {
   "codemirror_mode": {
    "name": "ipython",
    "version": 3
   },
   "file_extension": ".py",
   "mimetype": "text/x-python",
   "name": "python",
   "nbconvert_exporter": "python",
   "pygments_lexer": "ipython3",
   "version": "3.7.11"
  }
 },
 "nbformat": 4,
 "nbformat_minor": 5
}
